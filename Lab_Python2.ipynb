{
 "cells": [
  {
   "cell_type": "code",
   "execution_count": 3,
   "metadata": {
    "tags": []
   },
   "outputs": [],
   "source": [
    "import pandas as pd"
   ]
  },
  {
   "cell_type": "code",
   "execution_count": 2,
   "metadata": {},
   "outputs": [
    {
     "data": {
      "text/plain": [
       "'\\nІнформація про кількість проведених планових/позапланових перевірок та їх результати\\nhttps://data.gov.ua/dataset/de0a16f3-5fcc-4986-996a-e04ce2809d89\\n\\n\\nЗагальна кількість здійснених документальних перевірок юридичних осіб звітного року з урахуванням філій, результати яких узгоджено, всього, у т.ч.: планових, всього, у т.ч.: - на загальній системі оподаткування; - на спрощеній системі оподаткування; - позапланових, всього, у т.ч.: - на загальній системі оподаткування; - на спрощеній системі оподаткування Інформація про кількість проведених планових/позапланових документальних перевірок платників податків – юридичних осіб з питань правильності обчислення, повноти і своєчасності сплати податку на доходи фізичних осіб, військового збору та єдиного внеску, документальних перевірок самозайнятих осіб та громадян, а також документальних перевірок фізичних осіб щодо дотримання вимог законодавства України з питань державної митної справи (загальна кількість проведених перевірок, а також кількість перевірок, результати яких узгоджено)\\n'"
      ]
     },
     "execution_count": 2,
     "metadata": {},
     "output_type": "execute_result"
    }
   ],
   "source": [
    "\"\"\"\"\n",
    "Інформація про кількість проведених планових/позапланових перевірок та їх результати\n",
    "https://data.gov.ua/dataset/de0a16f3-5fcc-4986-996a-e04ce2809d89\n",
    "\n",
    "\n",
    "Загальна кількість здійснених документальних перевірок юридичних осіб звітного року з урахуванням філій, \n",
    "результати яких узгоджено, всього, у т.ч.: планових, всього, у т.ч.:\n",
    "- на загальній системі оподаткування;\n",
    "- на спрощеній системі оподаткування;\n",
    "- позапланових, всього, у т.ч.:\n",
    "- на загальній системі оподаткування;\n",
    "- на спрощеній системі оподаткування \n",
    "Інформація про кількість проведених планових/позапланових документальних перевірок платників податків \n",
    "– юридичних осіб з питань правильності обчислення, повноти і своєчасності сплати податку на доходи фізичних осіб, \n",
    "військового збору та єдиного внеску, документальних перевірок самозайнятих осіб та громадян, а також документальних \n",
    "перевірок фізичних осіб щодо дотримання вимог законодавства України з питань державної митної справи (загальна \n",
    "кількість проведених перевірок, а також кількість перевірок, результати яких узгоджено)\n",
    "\"\"\"\n"
   ]
  },
  {
   "cell_type": "code",
   "execution_count": 4,
   "metadata": {},
   "outputs": [],
   "source": [
    "df = pd.read_csv(\"dataset.csv\")"
   ]
  },
  {
   "cell_type": "code",
   "execution_count": 4,
   "metadata": {},
   "outputs": [
    {
     "data": {
      "text/html": [
       "<div>\n",
       "<style scoped>\n",
       "    .dataframe tbody tr th:only-of-type {\n",
       "        vertical-align: middle;\n",
       "    }\n",
       "\n",
       "    .dataframe tbody tr th {\n",
       "        vertical-align: top;\n",
       "    }\n",
       "\n",
       "    .dataframe thead th {\n",
       "        text-align: right;\n",
       "    }\n",
       "</style>\n",
       "<table border=\"1\" class=\"dataframe\">\n",
       "  <thead>\n",
       "    <tr style=\"text-align: right;\">\n",
       "      <th></th>\n",
       "      <th>Код регіону</th>\n",
       "      <th>Назва регіону</th>\n",
       "      <th>Кількість перевірок податків - юридичних осіб з питань правильності обчислення/ повноти і своєчасності сплати податку на доходи фізичних осіб/ військового збору та єдиного внеску/ результати яких узгоджено всього</th>\n",
       "      <th>у т.ч. планових</th>\n",
       "      <th>у т.ч. позапланових</th>\n",
       "      <th>Кількість перевірок самозайнятих осіб з питань дотримання вимог податкового та іншого законодавства/ контроль за дотриманням якого покладено на органи ДФС/ результати яких узгоджено всього</th>\n",
       "      <th>у т.ч. планових .1</th>\n",
       "      <th>у т.ч. позапланових.1</th>\n",
       "      <th>Кількість перевірок громадян з питань дотримання вимог податкового та іншого законодавства/ контроль за дотриманням якого покладено на органи ДФС/ результати яких узгоджено всього</th>\n",
       "      <th>у т.ч. позапланових.2</th>\n",
       "      <th>Кількість перевірок фізичних осіб щодо дотримання вимог законодавства України з питань державної митної справи/ результати яких узгоджено всього</th>\n",
       "      <th>у т.ч. позапланових.3</th>\n",
       "    </tr>\n",
       "  </thead>\n",
       "  <tbody>\n",
       "    <tr>\n",
       "      <th>0</th>\n",
       "      <td>2</td>\n",
       "      <td>Вінницька</td>\n",
       "      <td>49</td>\n",
       "      <td>16</td>\n",
       "      <td>33</td>\n",
       "      <td>331</td>\n",
       "      <td>23</td>\n",
       "      <td>308</td>\n",
       "      <td>64</td>\n",
       "      <td>64</td>\n",
       "      <td>2</td>\n",
       "      <td>2</td>\n",
       "    </tr>\n",
       "    <tr>\n",
       "      <th>1</th>\n",
       "      <td>3</td>\n",
       "      <td>Волинська</td>\n",
       "      <td>29</td>\n",
       "      <td>17</td>\n",
       "      <td>12</td>\n",
       "      <td>161</td>\n",
       "      <td>16</td>\n",
       "      <td>145</td>\n",
       "      <td>0</td>\n",
       "      <td>0</td>\n",
       "      <td>3</td>\n",
       "      <td>3</td>\n",
       "    </tr>\n",
       "    <tr>\n",
       "      <th>2</th>\n",
       "      <td>4</td>\n",
       "      <td>Дніпропетровська</td>\n",
       "      <td>87</td>\n",
       "      <td>45</td>\n",
       "      <td>42</td>\n",
       "      <td>208</td>\n",
       "      <td>25</td>\n",
       "      <td>183</td>\n",
       "      <td>68</td>\n",
       "      <td>68</td>\n",
       "      <td>1</td>\n",
       "      <td>1</td>\n",
       "    </tr>\n",
       "    <tr>\n",
       "      <th>3</th>\n",
       "      <td>5</td>\n",
       "      <td>Донецька</td>\n",
       "      <td>39</td>\n",
       "      <td>12</td>\n",
       "      <td>27</td>\n",
       "      <td>24</td>\n",
       "      <td>2</td>\n",
       "      <td>22</td>\n",
       "      <td>32</td>\n",
       "      <td>32</td>\n",
       "      <td>3</td>\n",
       "      <td>3</td>\n",
       "    </tr>\n",
       "    <tr>\n",
       "      <th>4</th>\n",
       "      <td>6</td>\n",
       "      <td>Житомирська</td>\n",
       "      <td>14</td>\n",
       "      <td>8</td>\n",
       "      <td>6</td>\n",
       "      <td>65</td>\n",
       "      <td>18</td>\n",
       "      <td>47</td>\n",
       "      <td>18</td>\n",
       "      <td>18</td>\n",
       "      <td>1</td>\n",
       "      <td>1</td>\n",
       "    </tr>\n",
       "  </tbody>\n",
       "</table>\n",
       "</div>"
      ],
      "text/plain": [
       "  Код регіону     Назва регіону  \\\n",
       "0           2         Вінницька   \n",
       "1           3         Волинська   \n",
       "2           4  Дніпропетровська   \n",
       "3           5          Донецька   \n",
       "4           6       Житомирська   \n",
       "\n",
       "  Кількість перевірок податків - юридичних осіб з питань правильності обчислення/ повноти і своєчасності сплати податку на доходи фізичних осіб/ військового збору та єдиного внеску/ результати яких узгоджено всього  \\\n",
       "0                                                 49                                                                                                                                                                     \n",
       "1                                                 29                                                                                                                                                                     \n",
       "2                                                 87                                                                                                                                                                     \n",
       "3                                                 39                                                                                                                                                                     \n",
       "4                                                 14                                                                                                                                                                     \n",
       "\n",
       "   у т.ч. планових   у т.ч. позапланових  \\\n",
       "0                16                   33   \n",
       "1                17                   12   \n",
       "2                45                   42   \n",
       "3                12                   27   \n",
       "4                 8                    6   \n",
       "\n",
       "  Кількість перевірок самозайнятих осіб з питань дотримання вимог податкового та іншого законодавства/ контроль за дотриманням якого покладено на органи ДФС/ результати яких узгоджено всього  \\\n",
       "0                                                331                                                                                                                                             \n",
       "1                                                161                                                                                                                                             \n",
       "2                                                208                                                                                                                                             \n",
       "3                                                 24                                                                                                                                             \n",
       "4                                                 65                                                                                                                                             \n",
       "\n",
       "   у т.ч. планових .1 у т.ч. позапланових.1  \\\n",
       "0                  23                   308   \n",
       "1                  16                   145   \n",
       "2                  25                   183   \n",
       "3                   2                    22   \n",
       "4                  18                    47   \n",
       "\n",
       "   Кількість перевірок громадян з питань дотримання вимог податкового та іншого законодавства/ контроль за дотриманням якого покладено на органи ДФС/ результати яких узгоджено всього  \\\n",
       "0                                                 64                                                                                                                                     \n",
       "1                                                  0                                                                                                                                     \n",
       "2                                                 68                                                                                                                                     \n",
       "3                                                 32                                                                                                                                     \n",
       "4                                                 18                                                                                                                                     \n",
       "\n",
       "   у т.ч. позапланових.2  \\\n",
       "0                     64   \n",
       "1                      0   \n",
       "2                     68   \n",
       "3                     32   \n",
       "4                     18   \n",
       "\n",
       "   Кількість перевірок фізичних осіб щодо дотримання вимог законодавства України з питань державної митної справи/ результати яких узгоджено всього  \\\n",
       "0                                                  2                                                                                                  \n",
       "1                                                  3                                                                                                  \n",
       "2                                                  1                                                                                                  \n",
       "3                                                  3                                                                                                  \n",
       "4                                                  1                                                                                                  \n",
       "\n",
       "   у т.ч. позапланових.3  \n",
       "0                      2  \n",
       "1                      3  \n",
       "2                      1  \n",
       "3                      3  \n",
       "4                      1  "
      ]
     },
     "execution_count": 4,
     "metadata": {},
     "output_type": "execute_result"
    }
   ],
   "source": [
    "df.head()"
   ]
  },
  {
   "cell_type": "code",
   "execution_count": 5,
   "metadata": {},
   "outputs": [],
   "source": [
    "df.columns = [\"region_code\", \"region_name\", \"yur_checks\", \"yur_planned\", \"yur_unplanned\", \"samoz_checks\", \"samoz_planned\", \"samoz_unplanned\", \"grom_checks\", \"grom_unplanned\", \"fiz_checks\", \"fiz_unplanned\"]"
   ]
  },
  {
   "cell_type": "code",
   "execution_count": 6,
   "metadata": {},
   "outputs": [],
   "source": [
    "df.drop(df.tail(2).index,inplace=True)"
   ]
  },
  {
   "cell_type": "code",
   "execution_count": 7,
   "metadata": {},
   "outputs": [
    {
     "data": {
      "text/html": [
       "<div>\n",
       "<style scoped>\n",
       "    .dataframe tbody tr th:only-of-type {\n",
       "        vertical-align: middle;\n",
       "    }\n",
       "\n",
       "    .dataframe tbody tr th {\n",
       "        vertical-align: top;\n",
       "    }\n",
       "\n",
       "    .dataframe thead th {\n",
       "        text-align: right;\n",
       "    }\n",
       "</style>\n",
       "<table border=\"1\" class=\"dataframe\">\n",
       "  <thead>\n",
       "    <tr style=\"text-align: right;\">\n",
       "      <th></th>\n",
       "      <th>region_code</th>\n",
       "      <th>region_name</th>\n",
       "      <th>yur_checks</th>\n",
       "      <th>yur_planned</th>\n",
       "      <th>yur_unplanned</th>\n",
       "      <th>samoz_checks</th>\n",
       "      <th>samoz_planned</th>\n",
       "      <th>samoz_unplanned</th>\n",
       "      <th>grom_checks</th>\n",
       "      <th>grom_unplanned</th>\n",
       "      <th>fiz_checks</th>\n",
       "      <th>fiz_unplanned</th>\n",
       "    </tr>\n",
       "  </thead>\n",
       "  <tbody>\n",
       "    <tr>\n",
       "      <td>0</td>\n",
       "      <td>2</td>\n",
       "      <td>Вінницька</td>\n",
       "      <td>49</td>\n",
       "      <td>16</td>\n",
       "      <td>33</td>\n",
       "      <td>331</td>\n",
       "      <td>23</td>\n",
       "      <td>308</td>\n",
       "      <td>64</td>\n",
       "      <td>64</td>\n",
       "      <td>2</td>\n",
       "      <td>2</td>\n",
       "    </tr>\n",
       "    <tr>\n",
       "      <td>1</td>\n",
       "      <td>3</td>\n",
       "      <td>Волинська</td>\n",
       "      <td>29</td>\n",
       "      <td>17</td>\n",
       "      <td>12</td>\n",
       "      <td>161</td>\n",
       "      <td>16</td>\n",
       "      <td>145</td>\n",
       "      <td>0</td>\n",
       "      <td>0</td>\n",
       "      <td>3</td>\n",
       "      <td>3</td>\n",
       "    </tr>\n",
       "    <tr>\n",
       "      <td>2</td>\n",
       "      <td>4</td>\n",
       "      <td>Дніпропетровська</td>\n",
       "      <td>87</td>\n",
       "      <td>45</td>\n",
       "      <td>42</td>\n",
       "      <td>208</td>\n",
       "      <td>25</td>\n",
       "      <td>183</td>\n",
       "      <td>68</td>\n",
       "      <td>68</td>\n",
       "      <td>1</td>\n",
       "      <td>1</td>\n",
       "    </tr>\n",
       "    <tr>\n",
       "      <td>3</td>\n",
       "      <td>5</td>\n",
       "      <td>Донецька</td>\n",
       "      <td>39</td>\n",
       "      <td>12</td>\n",
       "      <td>27</td>\n",
       "      <td>24</td>\n",
       "      <td>2</td>\n",
       "      <td>22</td>\n",
       "      <td>32</td>\n",
       "      <td>32</td>\n",
       "      <td>3</td>\n",
       "      <td>3</td>\n",
       "    </tr>\n",
       "    <tr>\n",
       "      <td>4</td>\n",
       "      <td>6</td>\n",
       "      <td>Житомирська</td>\n",
       "      <td>14</td>\n",
       "      <td>8</td>\n",
       "      <td>6</td>\n",
       "      <td>65</td>\n",
       "      <td>18</td>\n",
       "      <td>47</td>\n",
       "      <td>18</td>\n",
       "      <td>18</td>\n",
       "      <td>1</td>\n",
       "      <td>1</td>\n",
       "    </tr>\n",
       "  </tbody>\n",
       "</table>\n",
       "</div>"
      ],
      "text/plain": [
       "  region_code       region_name yur_checks  yur_planned  yur_unplanned  \\\n",
       "0           2         Вінницька         49           16             33   \n",
       "1           3         Волинська         29           17             12   \n",
       "2           4  Дніпропетровська         87           45             42   \n",
       "3           5          Донецька         39           12             27   \n",
       "4           6       Житомирська         14            8              6   \n",
       "\n",
       "  samoz_checks  samoz_planned samoz_unplanned  grom_checks  grom_unplanned  \\\n",
       "0          331             23             308           64              64   \n",
       "1          161             16             145            0               0   \n",
       "2          208             25             183           68              68   \n",
       "3           24              2              22           32              32   \n",
       "4           65             18              47           18              18   \n",
       "\n",
       "   fiz_checks  fiz_unplanned  \n",
       "0           2              2  \n",
       "1           3              3  \n",
       "2           1              1  \n",
       "3           3              3  \n",
       "4           1              1  "
      ]
     },
     "execution_count": 7,
     "metadata": {},
     "output_type": "execute_result"
    }
   ],
   "source": [
    "df.head()"
   ]
  },
  {
   "cell_type": "code",
   "execution_count": 8,
   "metadata": {},
   "outputs": [],
   "source": [
    "df[[\"yur_checks\", \"yur_planned\", \"yur_unplanned\", \"samoz_checks\", \"samoz_planned\", \"samoz_unplanned\", \"grom_checks\", \"grom_unplanned\", \"fiz_checks\", \"fiz_unplanned\"]] = df[[\"yur_checks\", \"yur_planned\", \"yur_unplanned\", \"samoz_checks\", \"samoz_planned\", \"samoz_unplanned\", \"grom_checks\", \"grom_unplanned\", \"fiz_checks\", \"fiz_unplanned\"]].apply(pd.to_numeric)"
   ]
  },
  {
   "cell_type": "code",
   "execution_count": 9,
   "metadata": {},
   "outputs": [],
   "source": [
    "# Питання 1. Яка область провела найменьшу кількість перевірок юридичних осіб?"
   ]
  },
  {
   "cell_type": "code",
   "execution_count": 10,
   "metadata": {},
   "outputs": [
    {
     "data": {
      "text/plain": [
       "'Закарпатська'"
      ]
     },
     "execution_count": 10,
     "metadata": {},
     "output_type": "execute_result"
    }
   ],
   "source": [
    "df.iloc[df[\"yur_checks\"].idxmin()].region_name"
   ]
  },
  {
   "cell_type": "code",
   "execution_count": 11,
   "metadata": {},
   "outputs": [],
   "source": [
    "# Питання 2. У якому регіоні було проведено найменьшу кількість непланових перевірок самозайнятих осіб по відношенню до планових?"
   ]
  },
  {
   "cell_type": "code",
   "execution_count": 18,
   "metadata": {},
   "outputs": [
    {
     "data": {
      "text/plain": [
       "'Київська'"
      ]
     },
     "execution_count": 18,
     "metadata": {},
     "output_type": "execute_result"
    }
   ],
   "source": [
    "df.iloc[(df[\"samoz_unplanned\"]/df[\"samoz_planned\"]).idxmin()].region_name"
   ]
  },
  {
   "cell_type": "code",
   "execution_count": 13,
   "metadata": {},
   "outputs": [],
   "source": [
    "# Питання 3. Скільки було проведено перевірок громадян у середньому?"
   ]
  },
  {
   "cell_type": "code",
   "execution_count": 17,
   "metadata": {},
   "outputs": [
    {
     "data": {
      "text/plain": [
       "36.92307692307692"
      ]
     },
     "execution_count": 17,
     "metadata": {},
     "output_type": "execute_result"
    }
   ],
   "source": [
    "df[\"grom_checks\"].mean()"
   ]
  },
  {
   "cell_type": "code",
   "execution_count": 15,
   "metadata": {},
   "outputs": [],
   "source": [
    "# Питання 4. Скільки перевірок усього в тисячах було проведено за кожною категорією? Скільки всього перевірок було проведено?"
   ]
  },
  {
   "cell_type": "code",
   "execution_count": 16,
   "metadata": {},
   "outputs": [],
   "source": [
    "checks_by_categs = df[[\"yur_checks\", \"samoz_checks\", \"grom_checks\", \"fiz_checks\"]].sum()"
   ]
  },
  {
   "cell_type": "code",
   "execution_count": 17,
   "metadata": {},
   "outputs": [
    {
     "data": {
      "text/plain": [
       "yur_checks      1284\n",
       "samoz_checks    2376\n",
       "grom_checks      960\n",
       "fiz_checks        41\n",
       "dtype: int64"
      ]
     },
     "execution_count": 17,
     "metadata": {},
     "output_type": "execute_result"
    }
   ],
   "source": [
    "checks_by_categs"
   ]
  },
  {
   "cell_type": "code",
   "execution_count": 18,
   "metadata": {},
   "outputs": [
    {
     "data": {
      "text/plain": [
       "4661"
      ]
     },
     "execution_count": 18,
     "metadata": {},
     "output_type": "execute_result"
    }
   ],
   "source": [
    "checks.sum()"
   ]
  },
  {
   "cell_type": "code",
   "execution_count": 19,
   "metadata": {},
   "outputs": [],
   "source": [
    "# Питання 5. Скільки в тисячах у середьому перевірок було проведено за кожною категорією?"
   ]
  },
  {
   "cell_type": "code",
   "execution_count": 16,
   "metadata": {},
   "outputs": [
    {
     "data": {
      "text/plain": [
       "yur_checks      49384.615385\n",
       "samoz_checks    91384.615385\n",
       "grom_checks     36923.076923\n",
       "fiz_checks       1576.923077\n",
       "dtype: float64"
      ]
     },
     "execution_count": 16,
     "metadata": {},
     "output_type": "execute_result"
    }
   ],
   "source": [
    "df[[\"yur_checks\", \"samoz_checks\", \"grom_checks\", \"fiz_checks\"]].mean()*1000"
   ]
  },
  {
   "cell_type": "code",
   "execution_count": null,
   "metadata": {},
   "outputs": [],
   "source": [
    "# Питання 6. 3 регіони які провели найбільшу кількість перевірок"
   ]
  },
  {
   "cell_type": "code",
   "execution_count": 21,
   "metadata": {},
   "outputs": [
    {
     "data": {
      "text/plain": [
       "24       м. Київ\n",
       "0      Вінницька\n",
       "18    Харківська\n",
       "Name: region_name, dtype: object"
      ]
     },
     "execution_count": 21,
     "metadata": {},
     "output_type": "execute_result"
    }
   ],
   "source": [
    "df.loc[df[[\"yur_checks\", \"samoz_checks\", \"grom_checks\", \"fiz_checks\"]].sum(axis=1).nlargest(3).index].region_name"
   ]
  },
  {
   "cell_type": "code",
   "execution_count": null,
   "metadata": {},
   "outputs": [],
   "source": []
  }
 ],
 "metadata": {
  "kernelspec": {
   "display_name": "Python 3",
   "language": "python",
   "name": "python3"
  },
  "language_info": {
   "codemirror_mode": {
    "name": "ipython",
    "version": 3
   },
   "file_extension": ".py",
   "mimetype": "text/x-python",
   "name": "python",
   "nbconvert_exporter": "python",
   "pygments_lexer": "ipython3",
   "version": "3.7.4"
  }
 },
 "nbformat": 4,
 "nbformat_minor": 4
}
